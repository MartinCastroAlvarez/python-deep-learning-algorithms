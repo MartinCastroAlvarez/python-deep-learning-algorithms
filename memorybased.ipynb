{
 "cells": [
  {
   "cell_type": "markdown",
   "metadata": {},
   "source": [
    "![user-user](./wallpaper.jpg)"
   ]
  },
  {
   "cell_type": "markdown",
   "metadata": {},
   "source": [
    "# Memory Based Collaborative Filtering"
   ]
  },
  {
   "cell_type": "markdown",
   "metadata": {},
   "source": [
    "- https://www.springer.com/gp/book/9783319296579\n",
    "- https://numpy.org/"
   ]
  },
  {
   "cell_type": "code",
   "execution_count": 1,
   "metadata": {},
   "outputs": [],
   "source": [
    "import time\n",
    "\n",
    "import numpy as np\n",
    "\n",
    "import matplotlib.pyplot as plt\n",
    "from matplotlib.figure import Figure\n",
    "from matplotlib.axes import Axes"
   ]
  },
  {
   "cell_type": "code",
   "execution_count": 2,
   "metadata": {},
   "outputs": [],
   "source": [
    "np.random.seed(10)"
   ]
  },
  {
   "cell_type": "markdown",
   "metadata": {},
   "source": [
    "![user-user](./wallpaper.jpg)"
   ]
  },
  {
   "cell_type": "markdown",
   "metadata": {},
   "source": [
    "## Explicit & Implicit Rating"
   ]
  },
  {
   "cell_type": "markdown",
   "metadata": {},
   "source": [
    "#### Timestamp Matrix"
   ]
  },
  {
   "cell_type": "code",
   "execution_count": 3,
   "metadata": {},
   "outputs": [],
   "source": [
    "def get_random_timestamp_matrix(shape: tuple, window: int = 100) -> np.array:\n",
    "    \"\"\"\n",
    "    Timestamp Matrix Generator.\n",
    "    \"\"\"\n",
    "    return np.floor(np.random.uniform(low=0, high=window, size=shape[0] * shape[1]).reshape(shape))"
   ]
  },
  {
   "cell_type": "code",
   "execution_count": 4,
   "metadata": {},
   "outputs": [
    {
     "name": "stdout",
     "output_type": "stream",
     "text": [
      "[[15.  0. 12. 14.  9.  4.  3. 15.  3.  1.]\n",
      " [13. 19.  0. 10. 16. 12. 14.  5. 18. 14.]\n",
      " [10.  2.  7. 13.  8.  8. 12. 10. 13. 12.]\n",
      " [16. 10. 18.  6.  1.  6.  2. 16.  0. 12.]\n",
      " [10. 16.  3. 17.  7. 15.  5. 17.  6.  3.]]\n"
     ]
    }
   ],
   "source": [
    "print(get_random_timestamp_matrix((5, 10), window=20))"
   ]
  },
  {
   "cell_type": "markdown",
   "metadata": {},
   "source": [
    "#### Age Function"
   ]
  },
  {
   "cell_type": "code",
   "execution_count": 5,
   "metadata": {},
   "outputs": [
    {
     "name": "stdout",
     "output_type": "stream",
     "text": [
      "[1.         0.9990005  0.998002   0.9970045  0.99600799 0.99501248\n",
      " 0.99401796 0.99302444 0.99203191 0.99104038 0.99004983 0.98906028\n",
      " 0.98807171 0.98708414 0.98609754]\n"
     ]
    },
    {
     "data": {
      "image/png": "[encoded data removed]",
      "text/plain": [
       "<Figure size 432x288 with 1 Axes>"
      ]
     },
     "metadata": {
      "needs_background": "light"
     },
     "output_type": "display_data"
    }
   ],
   "source": [
    "discount: float = 0.001\n",
    "X: np.array = np.e ** (-discount * np.arange(365))\n",
    "print(X[:15])\n",
    "figure: Figure = plt.figure()\n",
    "axes: Axes = figure.add_subplot()\n",
    "axes.plot(np.arange(X.shape[0]), X, '.', color='blue')\n",
    "plt.show()"
   ]
  },
  {
   "cell_type": "code",
   "execution_count": 6,
   "metadata": {},
   "outputs": [],
   "source": [
    "def age(X: np.array, ts: np.array, discount: float = 365) -> np.array:\n",
    "    \"\"\"\n",
    "    Age function.\n",
    "    \"\"\"\n",
    "    return X * np.e ** (-discount * ts)"
   ]
  },
  {
   "cell_type": "code",
   "execution_count": 7,
   "metadata": {},
   "outputs": [
    {
     "name": "stdout",
     "output_type": "stream",
     "text": [
      "[[9.11245423e-159 2.76789458e-317 0.00000000e+000]\n",
      " [0.00000000e+000             nan 0.00000000e+000]\n",
      " [3.03748474e-159 3.00000000e+000 2.00000000e+000]]\n"
     ]
    }
   ],
   "source": [
    "X: np.array = np.array([\n",
    "    [3, 3, 3],\n",
    "    [1, np.nan, 0],\n",
    "    [1, 3, 2]\n",
    "])\n",
    "ts: np.array = np.array([\n",
    "    [1, 2, 3],\n",
    "    [9, 5, 2],\n",
    "    [1, 0, 0],\n",
    "])\n",
    "print(age(X, ts))"
   ]
  },
  {
   "cell_type": "markdown",
   "metadata": {},
   "source": [
    "#### Likes Matrix"
   ]
  },
  {
   "cell_type": "code",
   "execution_count": 8,
   "metadata": {},
   "outputs": [],
   "source": [
    "def get_random_likes_matrix(shape: tuple, p: int = 0.2, scale: float = 5.) -> np.array:\n",
    "    \"\"\"\n",
    "    Likes Matrix Generator.\n",
    "    \"\"\"\n",
    "    return np.random.binomial(scale, p, shape[0] * shape[1]).reshape(shape).astype(float)"
   ]
  },
  {
   "cell_type": "code",
   "execution_count": 9,
   "metadata": {},
   "outputs": [
    {
     "name": "stdout",
     "output_type": "stream",
     "text": [
      "[[1. 0. 2. 0. 1. 3. 3. 1. 2. 0.]\n",
      " [1. 2. 1. 1. 0. 1. 0. 0. 1. 2.]\n",
      " [0. 1. 0. 1. 1. 0. 2. 2. 2. 1.]\n",
      " [1. 1. 1. 0. 0. 0. 0. 0. 1. 1.]\n",
      " [1. 0. 0. 3. 1. 1. 3. 1. 0. 1.]]\n"
     ]
    }
   ],
   "source": [
    "print(get_random_likes_matrix((5, 10), p=0.2))"
   ]
  },
  {
   "cell_type": "markdown",
   "metadata": {},
   "source": [
    "#### Shares Matrix"
   ]
  },
  {
   "cell_type": "markdown",
   "metadata": {},
   "source": [
    "- https://www.geeksforgeeks.org/implement-sigmoid-function-using-numpy/"
   ]
  },
  {
   "cell_type": "markdown",
   "metadata": {},
   "source": [
    "$$ S(x) = \\frac{1}{1 + e^{-x}} $$"
   ]
  },
  {
   "cell_type": "code",
   "execution_count": 10,
   "metadata": {},
   "outputs": [
    {
     "name": "stdout",
     "output_type": "stream",
     "text": [
      "[0.09090909 0.21373027 0.42492566 0.66761437 0.84519681 0.93687393\n",
      " 0.97581204 0.99096358 0.99665659 0.99876742 0.99954621 0.99983301\n",
      " 0.99993856 0.9999774  0.99999168]\n"
     ]
    },
    {
     "data": {
      "image/png": "[encoded data removed]",
      "text/plain": [
       "<Figure size 432x288 with 1 Axes>"
      ]
     },
     "metadata": {
      "needs_background": "light"
     },
     "output_type": "display_data"
    }
   ],
   "source": [
    "X: np.array = 1 / (1 + 10 * np.e ** (-np.arange(20)))\n",
    "print(X[:15])\n",
    "figure: Figure = plt.figure()\n",
    "axes: Axes = figure.add_subplot()\n",
    "axes.plot(np.arange(X.shape[0]), X, '.', color='blue')\n",
    "plt.show()"
   ]
  },
  {
   "cell_type": "code",
   "execution_count": 11,
   "metadata": {},
   "outputs": [
    {
     "name": "stdout",
     "output_type": "stream",
     "text": [
      "[3. 1. 0. 0. 2. 2. 0. 1. 2. 0. 1. 0. 0. 1. 0.]\n"
     ]
    },
    {
     "data": {
      "image/png": "[encoded data removed]",
      "text/plain": [
       "<Figure size 432x288 with 1 Axes>"
      ]
     },
     "metadata": {
      "needs_background": "light"
     },
     "output_type": "display_data"
    }
   ],
   "source": [
    "X: np.array = np.floor(np.random.lognormal(0, 1, 100))\n",
    "print(X[:15])\n",
    "figure: Figure = plt.figure()\n",
    "axes: Axes = figure.add_subplot()\n",
    "axes.plot(np.arange(X.shape[0]), X, '.', color='blue')\n",
    "plt.show()"
   ]
  },
  {
   "cell_type": "code",
   "execution_count": 12,
   "metadata": {},
   "outputs": [],
   "source": [
    "def get_random_shares_matrix(shape: tuple, scale: int = 1) -> np.array:\n",
    "    \"\"\"\n",
    "    Shares Matrix Generator.\n",
    "    \"\"\"\n",
    "    X: np.array = np.floor(np.random.lognormal(0, 1, shape[0] * shape[1]))\n",
    "    X[X > 0] = scale\n",
    "    return X\n",
    "    # return scale / (1 + 10 * np.e ** (-X.reshape(shape)))"
   ]
  },
  {
   "cell_type": "code",
   "execution_count": 13,
   "metadata": {},
   "outputs": [
    {
     "name": "stdout",
     "output_type": "stream",
     "text": [
      "[5. 0. 0. 0. 0. 5. 5. 0. 5. 0. 5. 5. 0. 5. 0. 0. 5. 5. 0. 0. 0. 5. 5. 0.\n",
      " 0. 5. 0. 5. 5. 5. 0. 5. 5. 0. 5. 5. 0. 0. 5. 0. 0. 5. 5. 5. 5. 5. 0. 0.\n",
      " 0. 5.]\n"
     ]
    }
   ],
   "source": [
    "print(get_random_shares_matrix((5, 10), scale=5))"
   ]
  },
  {
   "cell_type": "markdown",
   "metadata": {},
   "source": [
    "#### Ratings Matrix"
   ]
  },
  {
   "cell_type": "markdown",
   "metadata": {},
   "source": [
    "The ratings matrix is denoted by `R` and it is an `m` by `n` matrix containing `m` users and `n` items. The rating of user `u1` for item `i3` is denoted by `r13`."
   ]
  },
  {
   "cell_type": "markdown",
   "metadata": {},
   "source": [
    "$$ U = \\{ u_1, u_2 ... u_m \\} \\land |U| = m $$"
   ]
  },
  {
   "cell_type": "markdown",
   "metadata": {},
   "source": [
    "$$ I = \\{ i_1, i_2 ... i_n \\} \\land |I| = n $$"
   ]
  },
  {
   "cell_type": "markdown",
   "metadata": {},
   "source": [
    "$$ R = \\{ r_{1,1}, r_{1,2} ... r_{2,1}, r_{2,2} ... r_{m,n} \\} \\land |R| = m \\times n $$"
   ]
  },
  {
   "cell_type": "code",
   "execution_count": 14,
   "metadata": {},
   "outputs": [],
   "source": [
    "def get_random_ratings_matrix(shape: tuple, scale: float = 5) -> np.array:\n",
    "    \"\"\"\n",
    "    Random dataset generator.\n",
    "    \"\"\"\n",
    "    ratings: np.array = scale * np.random.randn(*shape)\n",
    "    ratings[ratings < 0] = np.nan\n",
    "    ratings[ratings > scale] = scale\n",
    "    ratings = np.floor(ratings)\n",
    "    return ratings"
   ]
  },
  {
   "cell_type": "code",
   "execution_count": 15,
   "metadata": {},
   "outputs": [
    {
     "name": "stdout",
     "output_type": "stream",
     "text": [
      "[[nan  2. nan nan nan nan  3. nan  5.  5.]\n",
      " [nan nan nan  2.  0.  5. nan  2. nan nan]\n",
      " [ 5.  1.  3. nan nan  0. nan  3.  2. nan]]\n"
     ]
    }
   ],
   "source": [
    "ratings: np.array = get_random_ratings_matrix((3, 10), scale=5)\n",
    "print(ratings)"
   ]
  },
  {
   "cell_type": "markdown",
   "metadata": {},
   "source": [
    "#### Cold Start Dimensionality Reduction"
   ]
  },
  {
   "cell_type": "code",
   "execution_count": 16,
   "metadata": {},
   "outputs": [],
   "source": [
    "def get_active_users(ratings: np.array, min_ratings: int = 10) -> np.array:\n",
    "    \"\"\"\n",
    "    Cold Start users removal.\n",
    "    \"\"\"\n",
    "    return ratings[np.sum(~np.isnan(ratings), axis=1) >= min_ratings]"
   ]
  },
  {
   "cell_type": "code",
   "execution_count": 17,
   "metadata": {},
   "outputs": [
    {
     "name": "stdout",
     "output_type": "stream",
     "text": [
      "[[ 1.  1.  1.  2.  3.]\n",
      " [ 1.  1. nan  2.  3.]]\n"
     ]
    }
   ],
   "source": [
    "X: np.array = np.array([\n",
    "    [1, 1, 1, 2, 3],\n",
    "    [1, 1, np.nan, 2, 3],\n",
    "    [np.nan, np.nan, 3, np.nan, 2],\n",
    "])\n",
    "Y: np.array = get_active_users(X, 3)\n",
    "print(Y)"
   ]
  },
  {
   "cell_type": "markdown",
   "metadata": {},
   "source": [
    "#### Negative Items Dimensionality Reduction"
   ]
  },
  {
   "cell_type": "code",
   "execution_count": 18,
   "metadata": {},
   "outputs": [],
   "source": [
    "def get_good_items(ratings: np.array, min_rating: float = 0) -> np.array:\n",
    "    \"\"\"\n",
    "    Bad Items users removal.\n",
    "    \"\"\"\n",
    "    totals: np.array = np.nansum(ratings.T, axis=1)\n",
    "    count: np.array = np.count_nonzero(~np.isnan(ratings.T), axis=1)\n",
    "    count[count == 0] = 1\n",
    "    mask = totals / count > min_rating\n",
    "    return ratings.T[mask.reshape(ratings.shape[1])].T"
   ]
  },
  {
   "cell_type": "code",
   "execution_count": 19,
   "metadata": {},
   "outputs": [
    {
     "name": "stdout",
     "output_type": "stream",
     "text": [
      "[[ 1.  2.  3.]\n",
      " [nan  2.  3.]\n",
      " [ 3. nan  2.]]\n"
     ]
    }
   ],
   "source": [
    "X: np.array = np.array([\n",
    "    [1, 1, 1, 2, 3],\n",
    "    [1, 1, np.nan, 2, 3],\n",
    "    [np.nan, np.nan, 3, np.nan, 2],\n",
    "])\n",
    "Y: np.array = get_good_items(X, 1.5)\n",
    "print(Y)"
   ]
  },
  {
   "cell_type": "markdown",
   "metadata": {},
   "source": [
    "#### Views Matrix"
   ]
  },
  {
   "cell_type": "markdown",
   "metadata": {},
   "source": [
    "- https://en.wikipedia.org/wiki/Log-normal_distribution"
   ]
  },
  {
   "cell_type": "code",
   "execution_count": 20,
   "metadata": {},
   "outputs": [
    {
     "name": "stdout",
     "output_type": "stream",
     "text": [
      "[ 1.  1.  0.  0.  0.  1.  2.  0.  3.  1.  0.  1.  2.  1. 10.]\n"
     ]
    },
    {
     "data": {
      "image/png": "[encoded data removed]",
      "text/plain": [
       "<Figure size 432x288 with 1 Axes>"
      ]
     },
     "metadata": {
      "needs_background": "light"
     },
     "output_type": "display_data"
    }
   ],
   "source": [
    "X: np.array = np.floor(np.random.lognormal(0, 1, 100))\n",
    "print(X[:15])\n",
    "figure: Figure = plt.figure()\n",
    "axes: Axes = figure.add_subplot()\n",
    "axes.plot(np.arange(X.shape[0]), X, '.', color='blue')\n",
    "plt.show()"
   ]
  },
  {
   "cell_type": "code",
   "execution_count": 21,
   "metadata": {},
   "outputs": [],
   "source": [
    "def get_random_views_matrix(shape: tuple) -> np.array:\n",
    "    \"\"\"\n",
    "    Random views matrix generator.\n",
    "    \"\"\"\n",
    "    return np.floor(np.random.lognormal(0, 1, shape[0] * shape[1])).reshape(shape)"
   ]
  },
  {
   "cell_type": "code",
   "execution_count": 22,
   "metadata": {},
   "outputs": [
    {
     "name": "stdout",
     "output_type": "stream",
     "text": [
      "[[2. 0. 1. 0. 1. 1. 1. 0. 0. 1.]\n",
      " [0. 2. 0. 0. 2. 0. 0. 1. 1. 0.]\n",
      " [1. 0. 1. 1. 1. 2. 0. 0. 0. 0.]]\n"
     ]
    }
   ],
   "source": [
    "views: np.array = get_random_views_matrix((3, 10))\n",
    "print(views)"
   ]
  },
  {
   "cell_type": "markdown",
   "metadata": {},
   "source": [
    "#### Merge Feedback"
   ]
  },
  {
   "cell_type": "code",
   "execution_count": 23,
   "metadata": {},
   "outputs": [],
   "source": [
    "def get_merged_feedback_matrix(*feedback) -> np.array:\n",
    "    \"\"\"\n",
    "    Merge Feedback Matrix.\n",
    "    \"\"\"\n",
    "    X: np.array = np.vstack([\n",
    "        f.reshape(f.size)\n",
    "        for f in feedback\n",
    "    ])\n",
    "    n: np.array = np.count_nonzero(~np.isnan(X), axis=0)\n",
    "    empty: np.array = n == 0\n",
    "    n[empty] = 1\n",
    "    Y: np.array = np.nansum(X, axis=0) / n\n",
    "    Y[empty] = np.nan\n",
    "    return Y.reshape(feedback[0].shape)"
   ]
  },
  {
   "cell_type": "code",
   "execution_count": 24,
   "metadata": {},
   "outputs": [
    {
     "name": "stdout",
     "output_type": "stream",
     "text": [
      "[[False  True False]\n",
      " [False  True False]\n",
      " [False False  True]\n",
      " [ True  True  True]]\n",
      "[[ 0. nan  0.]\n",
      " [ 0. nan  2.]\n",
      " [ 0.  0. nan]\n",
      " [nan nan nan]]\n",
      "[[ 0.  0. nan]\n",
      " [ 0.  0. nan]\n",
      " [nan  0.  0.]\n",
      " [nan nan  0.]]\n",
      "[[ 2.  1. nan]\n",
      " [ 1.  1. nan]\n",
      " [nan  1.  0.]\n",
      " [nan nan  0.]]\n",
      "[[ 3.  2. nan]\n",
      " [ 4.  2. nan]\n",
      " [nan  2.  1.]\n",
      " [nan nan  0.]]\n",
      "[[1.25  nan 0.  ]\n",
      " [1.25  nan 2.  ]\n",
      " [0.   0.75  nan]\n",
      " [ nan  nan  nan]]\n"
     ]
    }
   ],
   "source": [
    "min_rating: float = 0\n",
    "max_rating: float = 5\n",
    "stars: np.array = get_random_ratings_matrix((4, 3), scale=max_rating)\n",
    "empty: np.array = np.isnan(stars)\n",
    "ts: np.array = get_random_timestamp_matrix(stars.shape, window=20)\n",
    "stars = age(stars, ts)\n",
    "views: np.array = get_random_views_matrix(stars.shape)\n",
    "likes: np.array = get_random_likes_matrix(stars.shape, p=0.2, scale=max_rating)\n",
    "likes.reshape(likes.size)[views.reshape(views.size) == 0] = np.nan\n",
    "bookmarked: np.array = get_random_likes_matrix(stars.shape, p=0.5, scale=max_rating)\n",
    "bookmarked.reshape(bookmarked.size)[views.reshape(views.size) == 0] = np.nan\n",
    "shares: np.array = get_random_shares_matrix(stars.shape, scale=max_rating)\n",
    "shares.reshape(likes.size)[views.reshape(views.size) == 0] = np.nan\n",
    "ts: np.array = get_random_timestamp_matrix(stars.shape, window=20)\n",
    "shares = age(likes, ts)\n",
    "user_item: np.array = get_merged_feedback_matrix(stars, shares, likes, bookmarked)\n",
    "user_item[empty] = np.nan\n",
    "print(empty)\n",
    "print(stars)\n",
    "print(shares)\n",
    "print(likes)\n",
    "print(bookmarked)\n",
    "print(user_item)"
   ]
  },
  {
   "cell_type": "markdown",
   "metadata": {},
   "source": [
    "![user-user](./wallpaper.jpg)"
   ]
  },
  {
   "cell_type": "markdown",
   "metadata": {},
   "source": [
    "## Normalization"
   ]
  },
  {
   "cell_type": "markdown",
   "metadata": {},
   "source": [
    "- https://en.wikipedia.org/wiki/Normalization_(statistics)"
   ]
  },
  {
   "cell_type": "markdown",
   "metadata": {},
   "source": [
    "In statistics and applications of statistics, normalization can have a range of meanings. In the simplest cases, normalization of ratings means adjusting values measured on different scales to a notionally common scale, often prior to averaging."
   ]
  },
  {
   "cell_type": "markdown",
   "metadata": {},
   "source": [
    "$$ \\bar{\\mu} = \\frac{\\sum\\limits^{^n}_{i=1} x_i}{n}\t $$"
   ]
  },
  {
   "cell_type": "markdown",
   "metadata": {},
   "source": [
    "$$ σ^2 = \\frac{\\sum\\limits^{^n}_{i=1} (x_i - \\bar{\\mu})^2}{n}\t $$"
   ]
  },
  {
   "cell_type": "markdown",
   "metadata": {},
   "source": [
    "$$ z = \\frac{x_i - \\bar{\\mu}}{σ}\t $$"
   ]
  },
  {
   "cell_type": "code",
   "execution_count": 25,
   "metadata": {},
   "outputs": [],
   "source": [
    "def normalize(matrix: np.array) -> tuple:\n",
    "    \"\"\"\n",
    "    Normalization Function.\n",
    "    Returns z-score of each element in the input matrix.\n",
    "    \"\"\"    \n",
    "    sample_size: np.array = np.sum(~np.isnan(matrix), axis=1)\n",
    "    sample_size[sample_size == 0] = 1\n",
    "    mean: np.array = np.nansum(matrix, axis=1) / sample_size\n",
    "    mean = mean.reshape(mean.shape[0], 1)\n",
    "    variance: np.array = np.nansum(np.power(matrix - mean, 2), axis=1) / sample_size\n",
    "    variance = variance.reshape(variance.shape[0], 1)\n",
    "    variance[variance == 0] = 1\n",
    "    deviation: np.array = np.sqrt(variance)\n",
    "    normalized: np.array = (matrix - mean) / deviation\n",
    "    return mean, deviation, normalized\n",
    "\n",
    "\n",
    "def denormalize(normalized: np.array, mean: np.array, deviation: np.array) -> tuple:\n",
    "    \"\"\"\n",
    "    Denormalization Function.\n",
    "    \"\"\"\n",
    "    return mean + deviation * normalized"
   ]
  },
  {
   "cell_type": "code",
   "execution_count": 26,
   "metadata": {},
   "outputs": [
    {
     "name": "stdout",
     "output_type": "stream",
     "text": [
      "ORIGINAL \n",
      " [[ 0.86451847 -0.98668076  2.39251692  2.57550368  5.41225486  4.68103051\n",
      "   7.69450706  6.97488815  8.46058548  9.24458417]\n",
      " [20.2204969  25.29355248 33.98009167 39.32649819 48.90853317 53.08684621\n",
      "  59.23639566 67.14745541 72.50153413 80.59318923]]\n",
      "NORMALIZED \n",
      " [[-1.18589173 -1.75362011 -0.71728302 -0.66116438  0.20881447 -0.01543845\n",
      "   0.90873878  0.68804504  1.14368079  1.38411861]\n",
      " [-1.54967151 -1.28593976 -0.83435469 -0.55641232 -0.05827332  0.15894365\n",
      "   0.47863883  0.88990923  1.16825046  1.58890943]]\n",
      "DENORMALIZED \n",
      " [[ 0.86451847 -0.98668076  2.39251692  2.57550368  5.41225486  4.68103051\n",
      "   7.69450706  6.97488815  8.46058548  9.24458417]\n",
      " [20.2204969  25.29355248 33.98009167 39.32649819 48.90853317 53.08684621\n",
      "  59.23639566 67.14745541 72.50153413 80.59318923]]\n"
     ]
    },
    {
     "data": {
      "image/png": "[encoded data removed]",
      "text/plain": [
       "<Figure size 432x288 with 4 Axes>"
      ]
     },
     "metadata": {
      "needs_background": "light"
     },
     "output_type": "display_data"
    }
   ],
   "source": [
    "X: np.array = np.vstack([\n",
    "    np.linspace(0, 10, 10) + np.random.normal(0, 1, 10),\n",
    "    20 + np.linspace(0, 60, 10) + np.random.normal(0, 1, 10),\n",
    "])\n",
    "mean, deviation, Y = normalize(X)\n",
    "Z = denormalize(Y, mean, deviation)\n",
    "\n",
    "print('ORIGINAL', \"\\n\", X)\n",
    "print('NORMALIZED', \"\\n\", Y)\n",
    "print('DENORMALIZED', \"\\n\", Z)\n",
    "\n",
    "assert X.shape == Y.shape\n",
    "assert Z.shape == X.shape\n",
    "assert (np.floor(X) == np.floor(Z)).all()\n",
    "\n",
    "grid = np.arange(X.shape[1])\n",
    "figure: Figure = plt.figure()\n",
    "axes: Axes = figure.add_subplot(2, 2, 1)\n",
    "axes.plot(grid, X[0].flat, 'o', color='blue')\n",
    "axes: Axes = figure.add_subplot(2, 2, 2)\n",
    "axes.plot(grid, Y[0].flat, 'o', color='red')\n",
    "axes: Axes = figure.add_subplot(2, 2, 3)\n",
    "axes.plot(grid, X[1].flat, 'o', color='blue')\n",
    "axes: Axes = figure.add_subplot(2, 2, 4)\n",
    "axes.plot(grid, Y[1].flat, 'o', color='red')\n",
    "plt.show()"
   ]
  },
  {
   "cell_type": "markdown",
   "metadata": {},
   "source": [
    "## Entropy"
   ]
  },
  {
   "cell_type": "markdown",
   "metadata": {},
   "source": [
    "- https://en.wikipedia.org/wiki/Entropy_(information_theory)"
   ]
  },
  {
   "cell_type": "markdown",
   "metadata": {},
   "source": [
    "In information theory, the entropy of a random variable is the average level of \"information\", \"surprise\", or \"uncertainty\" inherent in the variable's possible outcomes."
   ]
  },
  {
   "cell_type": "markdown",
   "metadata": {},
   "source": [
    "$$ H(x) = - \\sum\\limits^{^n}_{i=1} P(x_i) \\cdot log P(x_i) $$"
   ]
  },
  {
   "cell_type": "code",
   "execution_count": 27,
   "metadata": {},
   "outputs": [],
   "source": [
    "def get_entropy_array(matrix: np.array) -> np.array:\n",
    "    \"\"\"\n",
    "    Entropy Matrix.\n",
    "    \"\"\"\n",
    "    P: np.matrix = np.count_nonzero(~np.isnan(matrix.T), axis=1) / matrix.shape[0]\n",
    "    P[P == 0] = 1\n",
    "    return np.abs(np.log(P))"
   ]
  },
  {
   "cell_type": "code",
   "execution_count": 28,
   "metadata": {},
   "outputs": [
    {
     "name": "stdout",
     "output_type": "stream",
     "text": [
      "[[ 1. nan  3. nan nan]\n",
      " [ 4.  5. nan nan nan]\n",
      " [ 7.  8.  9.  5. nan]\n",
      " [ 7.  8.  9. nan nan]\n",
      " [ 7.  8.  9. nan nan]\n",
      " [ 7.  8.  9. nan nan]\n",
      " [ 7.  8.  9. nan nan]\n",
      " [ 1.  2.  2. nan nan]]\n",
      "[0.         0.13353139 0.13353139 2.07944154 0.        ]\n"
     ]
    }
   ],
   "source": [
    "X: np.array = np.array([\n",
    "    [1, np.nan, 3, np.nan, np.nan],\n",
    "    [4, 5, np.nan, np.nan, np.nan],\n",
    "    [7, 8, 9, 5, np.nan],\n",
    "    [7, 8, 9, np.nan, np.nan],\n",
    "    [7, 8, 9, np.nan, np.nan],\n",
    "    [7, 8, 9, np.nan, np.nan],\n",
    "    [7, 8, 9, np.nan, np.nan],\n",
    "    [1, 2, 2, np.nan, np.nan]\n",
    "])\n",
    "E: np.array = get_entropy_array(X)\n",
    "print(X)\n",
    "print(E)"
   ]
  },
  {
   "cell_type": "markdown",
   "metadata": {},
   "source": [
    "## Cosine Similarity"
   ]
  },
  {
   "cell_type": "markdown",
   "metadata": {},
   "source": [
    "- https://en.wikipedia.org/wiki/Cosine_similarity"
   ]
  },
  {
   "cell_type": "markdown",
   "metadata": {},
   "source": [
    "Cosine similarity is a measure of similarity between two non-zero vectors of an inner product space. It is defined to equal the cosine of the angle between them, which is also the same as the inner product of the same vectors normalized to both have length 1."
   ]
  },
  {
   "cell_type": "markdown",
   "metadata": {},
   "source": [
    "$$ cos(X, Y) = \\frac{X \\cdot Y}{ \\left \\Vert X \\right \\| \\cdot \\left \\Vert Y \\right \\| } = \\frac{ \\sum\\limits^{^n}_{i=1} X_i \\cdot Y_i }{ \\sqrt{\\sum\\limits^{^n}_{i=1} X_i^2} \\cdot \\sqrt{\\sum\\limits^{^n}_{i=1} Y_i^2} } $$"
   ]
  },
  {
   "cell_type": "markdown",
   "metadata": {},
   "source": [
    "$$ ρ_{X,Y} = \\frac{ cov(X,Y) }{ σ_X \\cdot σ_Y }\t $$"
   ]
  },
  {
   "cell_type": "markdown",
   "metadata": {},
   "source": [
    "$$ σ^2_X = \\frac{\\sum\\limits^{^n}_{i=1} (x_i - \\bar{\\mu_X})^2}{n}\t $$"
   ]
  },
  {
   "cell_type": "markdown",
   "metadata": {},
   "source": [
    "$$ cov(X,Y)^2 = \\frac{\\sum\\limits^{^n}_{i=1} (x_i - \\bar{\\mu_X})(y_i - \\bar{\\mu_Y}) }{n}\t $$"
   ]
  },
  {
   "cell_type": "code",
   "execution_count": 29,
   "metadata": {},
   "outputs": [],
   "source": [
    "def get_cosine(X: np.array, Y: np.array, min_shared_ratings: int = 3) -> float:\n",
    "    \"\"\"\n",
    "    Cosine Similarity function.\n",
    "    \"\"\"\n",
    "    union: np.array = ~np.isnan(np.sum([X, Y], axis=0))\n",
    "    if np.count_nonzero(union) == 0:\n",
    "        return 0\n",
    "    discount: float = min(min_shared_ratings, np.count_nonzero(union)) / min_shared_ratings\n",
    "    return discount * np.sum(X[union] * Y[union]) / \\\n",
    "        (max(0.0000001, np.sqrt(np.sum(np.power(X[union], 2)))) *\\\n",
    "         max(0.0000001, np.sqrt(np.sum(np.power(Y[union], 2)))))"
   ]
  },
  {
   "cell_type": "code",
   "execution_count": 30,
   "metadata": {},
   "outputs": [
    {
     "name": "stdout",
     "output_type": "stream",
     "text": [
      "[ 1. nan  2.  3.  4.  5.  6.  7.  8.  9.] [ 1.  3.  2.  2. nan  8.  9. 10. 11. 12.] 0.9929196160911488\n"
     ]
    },
    {
     "data": {
      "image/png": "[encoded data removed]",
      "text/plain": [
       "<Figure size 432x288 with 1 Axes>"
      ]
     },
     "metadata": {
      "needs_background": "light"
     },
     "output_type": "display_data"
    }
   ],
   "source": [
    "X: np.array = np.array([1, np.nan, 2, 3, 4, 5, 6, 7, 8, 9])\n",
    "Y: np.array = np.array([1, 3, 2, 2, np.nan, 8, 9, 10, 11, 12])\n",
    "print(X, Y, get_cosine(X, Y))\n",
    "figure: Figure = plt.figure()\n",
    "axes: Axes = figure.add_subplot()\n",
    "axes.plot(np.arange(X.shape[0]), X, 'x', color='blue')\n",
    "axes.plot(np.arange(Y.shape[0]), Y, '.', color='red')\n",
    "plt.show()"
   ]
  },
  {
   "cell_type": "code",
   "execution_count": 31,
   "metadata": {},
   "outputs": [
    {
     "name": "stdout",
     "output_type": "stream",
     "text": [
      "[ 1. nan  2.  3.  4.  5.  6.  7.  8.  9.] [ 10.  30.  20.  20.  nan  80.  90. 100. 110. 120.] 0.9929196160911488\n"
     ]
    },
    {
     "data": {
      "image/png": "[encoded data removed]",
      "text/plain": [
       "<Figure size 432x288 with 1 Axes>"
      ]
     },
     "metadata": {
      "needs_background": "light"
     },
     "output_type": "display_data"
    }
   ],
   "source": [
    "X: np.array = np.array([1, np.nan, 2, 3, 4, 5, 6, 7, 8, 9])\n",
    "Y: np.array = np.array([10, 30, 20, 20, np.nan, 80, 90, 100, 110, 120])\n",
    "print(X, Y, get_cosine(X, Y))\n",
    "figure: Figure = plt.figure()\n",
    "axes: Axes = figure.add_subplot()\n",
    "axes.plot(np.arange(X.shape[0]), X, 'x', color='blue')\n",
    "axes.plot(np.arange(Y.shape[0]), Y, '.', color='red')\n",
    "plt.show()"
   ]
  },
  {
   "cell_type": "code",
   "execution_count": 32,
   "metadata": {},
   "outputs": [
    {
     "name": "stdout",
     "output_type": "stream",
     "text": [
      "[ 1. nan  2.  3.  4.  5.  7.  9. 10.] [100.  65.  32.  24.  nan  10.   7.   4.   2.] 0.21975098781417202\n"
     ]
    },
    {
     "data": {
      "image/png": "[encoded data removed]",
      "text/plain": [
       "<Figure size 432x288 with 1 Axes>"
      ]
     },
     "metadata": {
      "needs_background": "light"
     },
     "output_type": "display_data"
    }
   ],
   "source": [
    "X: np.array = np.array([1, np.nan, 2, 3, 4, 5, 7, 9, 10])\n",
    "Y: np.array = np.array([100, 65, 32, 24, np.nan, 10, 7, 4, 2])\n",
    "print(X, Y, get_cosine(X, Y))\n",
    "figure: Figure = plt.figure()\n",
    "axes: Axes = figure.add_subplot()\n",
    "axes.plot(np.arange(X.shape[0]), X, 'x', color='blue')\n",
    "axes.plot(np.arange(Y.shape[0]), Y, 'o', color='red')\n",
    "plt.show()"
   ]
  },
  {
   "cell_type": "markdown",
   "metadata": {},
   "source": [
    "## Similarity Matrix"
   ]
  },
  {
   "cell_type": "code",
   "execution_count": 33,
   "metadata": {},
   "outputs": [],
   "source": [
    "def get_similarity_matrix(X: np.array, min_shared_ratings: int = 3, sample: float = 1.) -> np.array:\n",
    "    \"\"\"\n",
    "    Get similarity matrix out of a given matrix.\n",
    "    \"\"\"\n",
    "    Y: np.array = np.zeros((X.shape[0], X.shape[0]))\n",
    "    P: np.array = np.random.uniform(size=Y.size).reshape(Y.shape) < sample\n",
    "    for i in range(X.shape[0]):\n",
    "        for j in range(i + 1, X.shape[0]):\n",
    "            if P[i][j]:\n",
    "                Y[i][j] = get_cosine(X[i], X[j], min_shared_ratings=min_shared_ratings)\n",
    "    return Y + Y.T"
   ]
  },
  {
   "cell_type": "code",
   "execution_count": 34,
   "metadata": {},
   "outputs": [
    {
     "name": "stdout",
     "output_type": "stream",
     "text": [
      "[[1 2 3]\n",
      " [4 5 6]\n",
      " [7 8 9]]\n",
      "[[0.         0.97463185 0.        ]\n",
      " [0.97463185 0.         0.99819089]\n",
      " [0.         0.99819089 0.        ]]\n"
     ]
    }
   ],
   "source": [
    "X: np.array = np.array([\n",
    "    [1, 2, 3],\n",
    "    [4, 5, 6],\n",
    "    [7, 8, 9]\n",
    "])\n",
    "S: np.array = get_similarity_matrix(X, sample=0.8)\n",
    "print(X)\n",
    "print(S)"
   ]
  },
  {
   "cell_type": "markdown",
   "metadata": {},
   "source": [
    "## Top K-Similar Rows"
   ]
  },
  {
   "cell_type": "markdown",
   "metadata": {},
   "source": [
    "- https://en.wikipedia.org/wiki/Adjacency_matrix\n",
    "- https://numpy.org/doc/stable/reference/generated/numpy.argsort.html"
   ]
  },
  {
   "cell_type": "markdown",
   "metadata": {},
   "source": [
    "In graph theory and computer science, an adjacency matrix is a square matrix used to represent a finite graph. The elements of the matrix indicate whether pairs of vertices are adjacent or not in the graph."
   ]
  },
  {
   "cell_type": "code",
   "execution_count": 35,
   "metadata": {},
   "outputs": [],
   "source": [
    "def get_adjacency_matrix(similar: np.array, top: int = 4) -> np.array:\n",
    "    \"\"\"\n",
    "    Get top k similar rows of a similarity matrix.\n",
    "    \"\"\"\n",
    "    closest: np.array = np.argsort(similar)\n",
    "    return closest[:, closest.shape[1] - top:]"
   ]
  },
  {
   "cell_type": "code",
   "execution_count": 36,
   "metadata": {},
   "outputs": [
    {
     "name": "stdout",
     "output_type": "stream",
     "text": [
      "[[0 2 3 1]\n",
      " [8 0 6 1]\n",
      " [7 6 0 2]\n",
      " [2 3 1 0]]\n",
      "[[1 2]\n",
      " [2 0]\n",
      " [1 0]\n",
      " [0 1]]\n"
     ]
    }
   ],
   "source": [
    "X: np.array = np.array([\n",
    "    [0, 2, 3, 1],\n",
    "    [8, 0, 6, 1],\n",
    "    [7, 6, 0, 2],\n",
    "    [2, 3, 1, 0]\n",
    "])\n",
    "S: np.array = get_adjacency_matrix(X, 2)\n",
    "print(X)\n",
    "print(S)"
   ]
  },
  {
   "cell_type": "markdown",
   "metadata": {},
   "source": [
    "## Collaborative Filtering"
   ]
  },
  {
   "cell_type": "markdown",
   "metadata": {},
   "source": [
    "Filling the collaborative filtering matrix with ratings from similar rows. The predicted value is the weighted sum of the adjacent rows. Values are denormalized so that the approximate user scores. Entropy is applied to promote novelty across recommendations."
   ]
  },
  {
   "cell_type": "markdown",
   "metadata": {},
   "source": [
    "$$ \\hat{R_{i,j}} = \\mu + σ \\cdot \\frac{ \\sum\\limits^{^n}_{u=1} w_u \\cdot R_{u,j} }{ \\sum\\limits^{^n}_{u=1} w_u } $$"
   ]
  },
  {
   "cell_type": "markdown",
   "metadata": {},
   "source": [
    "$$ E = \\{ (r_{1,1} - \\hat{r_{1,1}}), (r_{1,2} - \\hat{r_{1,2}}), ..., (r_{i,j} - \\hat{r_{i,j}}) \\} $$"
   ]
  },
  {
   "cell_type": "code",
   "execution_count": 37,
   "metadata": {},
   "outputs": [],
   "source": [
    "def get_predictions_matrix(ratings: np.array, normalized: np.array, entropy: np.array, adjacent: np.array, similarity: np.array) -> np.array:\n",
    "    \"\"\"\n",
    "    Collaborative Filtering function.\n",
    "    \"\"\"\n",
    "    predictions: np.array = np.empty(ratings.shape)\n",
    "    for i in range(normalized.shape[0]):\n",
    "        for j in range(normalized.shape[1]):\n",
    "            predictions[i, j] = np.nan\n",
    "            total: float = 0\n",
    "            weights: float = 0\n",
    "            y: float = ratings[i][j]\n",
    "            for k in adjacent[i]:\n",
    "                if np.isnan(normalized[k][j]):\n",
    "                    continue\n",
    "                weight: float = similarity[i][k] * entropy[k]\n",
    "                weights += weight\n",
    "                total += normalized[k][j] * weight\n",
    "            if weights > 0:\n",
    "                y: float = total / weights\n",
    "            predictions[i, j] = y\n",
    "    return predictions"
   ]
  },
  {
   "cell_type": "code",
   "execution_count": 38,
   "metadata": {},
   "outputs": [],
   "source": [
    "def get_recommendations_matrix(ratings: np.array, predictions: np.array) -> np.array:\n",
    "    \"\"\"\n",
    "    Collaborative Filtering function.\n",
    "    \"\"\"\n",
    "    r = np.isnan(ratings).reshape(ratings.size)\n",
    "    t = np.copy(predictions.reshape(predictions.size))\n",
    "    t[~r] = np.nan\n",
    "    return t.reshape(predictions.shape)"
   ]
  },
  {
   "cell_type": "code",
   "execution_count": 39,
   "metadata": {},
   "outputs": [
    {
     "name": "stdout",
     "output_type": "stream",
     "text": [
      "[[nan  0.]\n",
      " [ 0. nan]]\n"
     ]
    }
   ],
   "source": [
    "X: np.array = np.array([\n",
    "    [1., np. nan],\n",
    "    [np.nan, 1.],\n",
    "])\n",
    "Y: np.array = np.array([\n",
    "    [2., 0.],\n",
    "    [0., 2.]\n",
    "])\n",
    "Z: np.array = get_recommendations_matrix(X ,Y)\n",
    "print(Z)"
   ]
  },
  {
   "cell_type": "markdown",
   "metadata": {},
   "source": [
    "## Evaluation"
   ]
  },
  {
   "cell_type": "markdown",
   "metadata": {},
   "source": [
    "$$ E = \\{ (r_{1,1} - \\hat{r_{1,1}}), (r_{1,2} - \\hat{r_{1,2}}), ..., (r_{i,j} - \\hat{r_{i,j}}) \\} $$"
   ]
  },
  {
   "cell_type": "markdown",
   "metadata": {},
   "source": [
    "$$ RMSE = \\sqrt{ \\frac{ \\sum\\limits^{^n}_{e=1} e_i^2 }{|E|}} $$"
   ]
  },
  {
   "cell_type": "markdown",
   "metadata": {},
   "source": [
    "$$ NRMSE = \\frac{ RMSE }{ (r_{max} - r_{min}) } $$"
   ]
  },
  {
   "cell_type": "code",
   "execution_count": 40,
   "metadata": {},
   "outputs": [],
   "source": [
    "def get_nrmse(ratings: np.array, predictions: np.array) -> np.matrix:\n",
    "    \"\"\"\n",
    "    Evaluation Function.\n",
    "    \"\"\"\n",
    "    predicted: np.array = predictions.reshape(predictions.size)\n",
    "    target: np.array = ratings.reshape(ratings.size)\n",
    "    tests: np.array = ~np.isnan(target)\n",
    "    predicted = predicted[tests]\n",
    "    target = target[tests]\n",
    "    error: float = np.nansum(np.power((predicted - target), 2))\n",
    "    trials: int = np.count_nonzero(tests)\n",
    "    return np.sqrt(error / trials) / (np.nanmax(predicted) - np.nanmin(predicted))"
   ]
  },
  {
   "cell_type": "code",
   "execution_count": 41,
   "metadata": {},
   "outputs": [
    {
     "name": "stdout",
     "output_type": "stream",
     "text": [
      "0.16666666666666666\n"
     ]
    }
   ],
   "source": [
    "X: np.array = np.array([\n",
    "    [3, np.nan, 1, np.nan],\n",
    "    [np.nan, 4, 1, np.nan],\n",
    "    [np.nan, np.nan, np.nan, np.nan]\n",
    "])\n",
    "Y: np.array = np.array([\n",
    "    [2, 0, 1, np.nan],\n",
    "    [0, 4, 1, np.nan],\n",
    "    [np.nan, np.nan, np.nan, np.nan]\n",
    "])\n",
    "nrmse: float = get_nrmse(X, Y)\n",
    "print(nrmse)"
   ]
  },
  {
   "cell_type": "markdown",
   "metadata": {},
   "source": [
    "## Novelty"
   ]
  },
  {
   "cell_type": "markdown",
   "metadata": {},
   "source": [
    "- http://ir.ii.uam.es/saul/pubs/fdia11-vargas.pdf"
   ]
  },
  {
   "cell_type": "markdown",
   "metadata": {},
   "source": [
    "In case we consider an item in a recommendation list, the probability of been discovered, i.e. p(seen|i, R), can be simplified by a decreasing discount function disc. Novelty of an item as the probability of not having been seen. In case we were interested in emphasize highly novel items, a discount rate `d` is applied on `t` times seen."
   ]
  },
  {
   "cell_type": "markdown",
   "metadata": {},
   "source": [
    "$$ \\hat{R_{u,i}} = R_{u,i} \\cdot P(seen/u,i) $$"
   ]
  },
  {
   "cell_type": "markdown",
   "metadata": {},
   "source": [
    "$$ P(seen/u,i) = \\frac{1}{(1 + d)^t} $$"
   ]
  },
  {
   "cell_type": "code",
   "execution_count": 42,
   "metadata": {},
   "outputs": [
    {
     "name": "stdout",
     "output_type": "stream",
     "text": [
      "[1.         0.99009901 0.98029605 0.97059015 0.96098034 0.95146569\n",
      " 0.94204524 0.93271805 0.92348322 0.91433982 0.90528695 0.89632372\n",
      " 0.88744923 0.8786626  0.86996297]\n"
     ]
    },
    {
     "data": {
      "image/png": "[encoded data removed]",
      "text/plain": [
       "<Figure size 432x288 with 1 Axes>"
      ]
     },
     "metadata": {
      "needs_background": "light"
     },
     "output_type": "display_data"
    }
   ],
   "source": [
    "discount: float = 0.01\n",
    "X: np.array = 1 / (1 + discount) ** np.arange(1000)\n",
    "print(X[:15])\n",
    "figure: Figure = plt.figure()\n",
    "axes: Axes = figure.add_subplot()\n",
    "axes.plot(np.arange(X.shape[0]), X, '.', color='blue')\n",
    "plt.show()"
   ]
  },
  {
   "cell_type": "code",
   "execution_count": 43,
   "metadata": {},
   "outputs": [],
   "source": [
    "def get_novelty_matrix(recommendations: np.array, views: np.array, discount_rate: float = 0.01) -> np.array:\n",
    "    \"\"\"\n",
    "    Apply novelty to recommendations.\n",
    "    \"\"\"\n",
    "    return recommendations / (1 + discount_rate) ** views"
   ]
  },
  {
   "cell_type": "code",
   "execution_count": 44,
   "metadata": {},
   "outputs": [
    {
     "name": "stdout",
     "output_type": "stream",
     "text": [
      "[[2.85439706 5.         2.9576897 ]\n",
      " [2.         1.81057391 1.63908894]\n",
      " [0.99009901 0.         1.84855606]]\n"
     ]
    }
   ],
   "source": [
    "X: np.array = np.array([\n",
    "    [3, 5, 8],\n",
    "    [2, 2, 2],\n",
    "    [1, 0, 5],\n",
    "])\n",
    "V: np.array = np.array([\n",
    "    [5, 0, 100],\n",
    "    [0, 10, 20],\n",
    "    [1, 0, 100],\n",
    "])\n",
    "Y:np.array = get_novelty_matrix(X, V)\n",
    "print(Y)"
   ]
  },
  {
   "cell_type": "markdown",
   "metadata": {},
   "source": [
    "## Top K Recommendations Getter"
   ]
  },
  {
   "cell_type": "code",
   "execution_count": 45,
   "metadata": {},
   "outputs": [],
   "source": [
    "def get_top_recommendations(recommendations: np.array, top: int = 3) -> np.array:\n",
    "    \"\"\"\n",
    "    Top K recommendations getter.\n",
    "    \"\"\"\n",
    "    X: np.array = np.copy(recommendations)\n",
    "    X[np.isnan(X)] = 0\n",
    "    return np.argsort(X)[:,::-1][:,:top]"
   ]
  },
  {
   "cell_type": "code",
   "execution_count": 46,
   "metadata": {},
   "outputs": [
    {
     "name": "stdout",
     "output_type": "stream",
     "text": [
      "[[4 3 5]\n",
      " [4 0 5]]\n"
     ]
    }
   ],
   "source": [
    "X: np.array = np.array([\n",
    "    [1, 2, 3, 4, 8, 3, 2, 2],\n",
    "    [4, np.nan, 2, 1, 4, 3, 2, np.nan],\n",
    "])\n",
    "Y: np.array = get_top_recommendations(X, 3)\n",
    "print(Y)"
   ]
  },
  {
   "cell_type": "markdown",
   "metadata": {},
   "source": [
    "## Recommendation Lists"
   ]
  },
  {
   "cell_type": "code",
   "execution_count": 47,
   "metadata": {},
   "outputs": [],
   "source": [
    "def get_liked_matrix(top: np.array, adjacent: np.array, ratings: np.matrix, min_rating: float, silent: bool = True) -> np.array:\n",
    "    \"\"\"\n",
    "    Explain Recommendations.\n",
    "    \"\"\"\n",
    "    Z: np.array = np.empty(top.shape).astype(int)\n",
    "    for user in range(top.shape[0]):\n",
    "        for j in range(top.shape[1]):\n",
    "            item = top[user][j]\n",
    "            X: np.array = ratings[user][adjacent[item]]\n",
    "            Y: np.array = np.greater(X, min_rating)\n",
    "            if np.count_nonzero(~Y) == adjacent.shape[1]:\n",
    "                Z[user][j] = -1\n",
    "                continue\n",
    "            Z[user][j] = adjacent[item][Y][np.nanargmax(X[Y])]\n",
    "            if not silent:\n",
    "                print(f'Item #{top[user][j]} recommended to User #{user} because they liked Item #{Z[user][j]}.')\n",
    "    return Z"
   ]
  },
  {
   "cell_type": "code",
   "execution_count": 48,
   "metadata": {},
   "outputs": [
    {
     "name": "stdout",
     "output_type": "stream",
     "text": [
      "Item #1 recommended to User #1 because they liked Item #0.\n",
      "Item #2 recommended to User #1 because they liked Item #1.\n",
      "Item #1 recommended to User #2 because they liked Item #0.\n",
      "[[-1 -1]\n",
      " [ 0  1]\n",
      " [-1  0]\n",
      " [-1 -1]]\n"
     ]
    }
   ],
   "source": [
    "top: np.array = np.array([\n",
    "    [0, 1],\n",
    "    [1, 2],\n",
    "    [0, 1],\n",
    "    [0, 2]\n",
    "])\n",
    "adjacent: np.array = np.array([\n",
    "    [1, 2],\n",
    "    [0, 2],\n",
    "    [0, 1],\n",
    "])\n",
    "user_item: np.array = np.array([\n",
    "    [np.nan, np.nan, 3],\n",
    "    [4, 5, np.nan],\n",
    "    [4, np.nan, 2],\n",
    "    [0, 0, 1],\n",
    "])\n",
    "liked: np.array = get_liked_matrix(top, adjacent, user_item, 3, silent=False)\n",
    "print(liked)"
   ]
  },
  {
   "cell_type": "markdown",
   "metadata": {},
   "source": [
    "## Diversity"
   ]
  },
  {
   "cell_type": "markdown",
   "metadata": {},
   "source": [
    "Diversity is a property of a recommendation list or a set of them composed by one or several recommender systems. It reflects how dissimilar items are to each other in the list. To measure diversity inside a list, researchers often calculate an average pairwise dissimilarity of items in a recommendation list."
   ]
  },
  {
   "cell_type": "markdown",
   "metadata": {},
   "source": [
    "## Serendipity"
   ]
  },
  {
   "cell_type": "markdown",
   "metadata": {},
   "source": [
    "- https://link.springer.com/content/pdf/10.1007/s00607-018-0687-5.pdf"
   ]
  },
  {
   "cell_type": "markdown",
   "metadata": {},
   "source": [
    "The dictionary definition of serendipity is “the faculty of making fortunate discoveries by accident”."
   ]
  },
  {
   "cell_type": "markdown",
   "metadata": {},
   "source": [
    "## Trending Items"
   ]
  },
  {
   "cell_type": "code",
   "execution_count": 49,
   "metadata": {},
   "outputs": [],
   "source": [
    "def get_trending_items(recommendations: np.array, top: int = 5) -> np.array:\n",
    "    \"\"\"\n",
    "    Trending Items getter.\n",
    "    \"\"\"\n",
    "    trends: np.array = np.nansum(recommendations, axis=1)\n",
    "    n = np.count_nonzero(~np.isnan(recommendations), axis=1)\n",
    "    n[n == 0] = 1\n",
    "    trends /= n\n",
    "    return np.argsort(trends)[::-1][:top]"
   ]
  },
  {
   "cell_type": "code",
   "execution_count": 50,
   "metadata": {},
   "outputs": [
    {
     "name": "stdout",
     "output_type": "stream",
     "text": [
      "[2 0]\n"
     ]
    }
   ],
   "source": [
    "X: np.array = np.array([\n",
    "    [np.nan, 1, 2, 3, np.nan],\n",
    "    [4, 0, 0, 2, np.nan],\n",
    "    [np.nan, 3, 3, 5, np.nan],\n",
    "    [np.nan, np.nan, np.nan, np.nan, np.nan],\n",
    "])\n",
    "Y: np.array = get_trending_items(X, 2)\n",
    "print(Y)"
   ]
  },
  {
   "cell_type": "markdown",
   "metadata": {},
   "source": [
    "![user-user](./wallpaper.jpg)"
   ]
  },
  {
   "cell_type": "markdown",
   "metadata": {},
   "source": [
    "## User-Based Collaborative Filtering"
   ]
  },
  {
   "cell_type": "code",
   "execution_count": 51,
   "metadata": {},
   "outputs": [
    {
     "name": "stdout",
     "output_type": "stream",
     "text": [
      "USERS 3\n",
      "ITEMS 10\n",
      "NRMSE 0.26650474731928375\n",
      "ELAPSED 0.006496429443359375\n",
      "RECOMMENDATIONS (14, 3)\n"
     ]
    }
   ],
   "source": [
    "# Parameters\n",
    "USERS: int = 10\n",
    "ITEMS: int = 15\n",
    "MAX_RATING: float = 5\n",
    "TIME_WINDOW: int = 20\n",
    "LIKE_RATE: float = 0.5\n",
    "BOOKMARK_RATE: float = 0.5\n",
    "MIN_ITEM_RATING: float = 1\n",
    "MIN_USER_RATINGS: int = 2\n",
    "SIMILARITY_SAMPLE_SIZE: float = 0.4\n",
    "MIN_SIMILARITY_RATINGS: int = 2\n",
    "\n",
    "# Explicit & Implicit Rating.\n",
    "stars: np.array = get_random_ratings_matrix((USERS, ITEMS), scale=MAX_RATING)\n",
    "empty: np.array = np.isnan(stars)\n",
    "ts: np.array = get_random_timestamp_matrix(stars.shape, window=TIME_WINDOW)\n",
    "stars = age(stars, ts)\n",
    "views: np.array = get_random_views_matrix(stars.shape)\n",
    "likes: np.array = get_random_likes_matrix(stars.shape, p=LIKE_RATE, scale=MAX_RATING)\n",
    "bookmarked: np.array = get_random_likes_matrix(stars.shape, p=BOOKMARK_RATE, scale=MAX_RATING)\n",
    "shares: np.array = get_random_shares_matrix(stars.shape, scale=max_rating)\n",
    "ts: np.array = get_random_timestamp_matrix(stars.shape, window=TIME_WINDOW)\n",
    "shares = age(likes, ts)\n",
    "user_item: np.array = get_merged_feedback_matrix(stars, shares, likes, bookmarked)\n",
    "user_item[empty] = np.nan\n",
    "\n",
    "# Recommendation System.\n",
    "start: float = time.time()   \n",
    "user_item = get_active_users(user_item, min_ratings=MIN_USER_RATINGS)\n",
    "user_item = get_good_items(user_item, min_rating=MIN_ITEM_RATING)\n",
    "mean, deviation, normalized = normalize(user_item)\n",
    "user_user: np.array = get_similarity_matrix(normalized,\n",
    "                                            min_shared_ratings=MIN_SIMILARITY_RATINGS,\n",
    "                                            sample=SIMILARITY_SAMPLE_SIZE)\n",
    "adjacent: np.array = get_adjacency_matrix(user_user)\n",
    "entropy: np.array = get_entropy_array(user_item.T)\n",
    "views: np.array = get_random_views_matrix(user_item.shape)\n",
    "predictions: np.array = get_predictions_matrix(ratings=user_item,\n",
    "                                               normalized=normalized,\n",
    "                                               similarity=user_user,\n",
    "                                               entropy=entropy,\n",
    "                                               adjacent=adjacent)\n",
    "predictions = denormalize(predictions, mean, deviation)\n",
    "recommendations: np.array = get_recommendations_matrix(user_item, predictions)\n",
    "recommendations: np.matrix = get_novelty_matrix(recommendations, views)\n",
    "top: np.array = get_top_recommendations(recommendations.T)\n",
    "\n",
    "# Model Evaluation.\n",
    "nrmse: float = get_nrmse(user_item, predictions)\n",
    "\n",
    "# Reporting\n",
    "print('USERS', ratings.shape[0])\n",
    "print('ITEMS', ratings.shape[1])\n",
    "print('NRMSE', nrmse)\n",
    "print('ELAPSED', time.time() - start)\n",
    "print('RECOMMENDATIONS', top.shape)"
   ]
  },
  {
   "cell_type": "markdown",
   "metadata": {},
   "source": [
    "## Item-Based Collaborative Filtering"
   ]
  },
  {
   "cell_type": "code",
   "execution_count": 52,
   "metadata": {},
   "outputs": [
    {
     "name": "stdout",
     "output_type": "stream",
     "text": [
      "USERS 10\n",
      "ITEMS 13\n",
      "NRMSE 0.09300850664439644\n",
      "ELAPSED 0.01964402198791504\n",
      "RECOMMENDATIONS (10, 3)\n",
      "BECAUSE YOU WATCHED (10, 3)\n",
      "TRENDING (5,)\n"
     ]
    }
   ],
   "source": [
    "# Parameters\n",
    "USERS: int = 10\n",
    "ITEMS: int = 15\n",
    "MAX_RATING: float = 5\n",
    "TIME_WINDOW: int = 20\n",
    "LIKE_RATE: float = 0.5\n",
    "BOOKMARK_RATE: float = 0.5\n",
    "MIN_ITEM_RATING: float = 1\n",
    "MIN_USER_RATINGS: int = 1\n",
    "SIMILARITY_SAMPLE_SIZE: float = 1\n",
    "TRENDING_ITEMS: int = 5\n",
    "MIN_LIKE_RATING: int = 1\n",
    "\n",
    "# Explicit & Implicit Rating.\n",
    "stars: np.array = get_random_ratings_matrix((USERS, ITEMS), scale=MAX_RATING)\n",
    "empty: np.array = np.isnan(stars)\n",
    "ts: np.array = get_random_timestamp_matrix(stars.shape, window=TIME_WINDOW)\n",
    "stars = age(stars, ts)\n",
    "views: np.array = get_random_views_matrix(stars.shape)\n",
    "likes: np.array = get_random_likes_matrix(stars.shape, p=LIKE_RATE, scale=MAX_RATING)\n",
    "bookmarked: np.array = get_random_likes_matrix(stars.shape, p=BOOKMARK_RATE, scale=MAX_RATING)\n",
    "shares: np.array = get_random_shares_matrix(stars.shape, scale=max_rating)\n",
    "ts: np.array = get_random_timestamp_matrix(stars.shape, window=TIME_WINDOW)\n",
    "shares = age(likes, ts)\n",
    "user_item: np.array = get_merged_feedback_matrix(stars, shares, likes, bookmarked)\n",
    "user_item[empty] = np.nan\n",
    "\n",
    "# Recommendation System.\n",
    "start: float = time.time()   \n",
    "user_item = get_active_users(user_item, min_ratings=MIN_USER_RATINGS)\n",
    "user_item = get_good_items(user_item, min_rating=MIN_ITEM_RATING)\n",
    "item_user: np.array = user_item.T\n",
    "views: np.array = get_random_views_matrix(item_user.shape)\n",
    "mean, deviation, normalized = normalize(item_user)\n",
    "item_item: np.array = get_similarity_matrix(normalized,\n",
    "                                            min_shared_ratings=MIN_SIMILARITY_RATINGS,\n",
    "                                            sample=SIMILARITY_SAMPLE_SIZE)\n",
    "adjacent: np.array = get_adjacency_matrix(item_item)\n",
    "entropy: np.array = get_entropy_array(item_user.T)\n",
    "predictions: np.array = get_predictions_matrix(ratings=item_user,\n",
    "                                               normalized=normalized,\n",
    "                                               similarity=item_item,\n",
    "                                               entropy=entropy,\n",
    "                                               adjacent=adjacent)\n",
    "predictions = denormalize(predictions, mean, deviation)\n",
    "recommendations: np.array = get_recommendations_matrix(item_user, predictions)\n",
    "recommendations: np.matrix = get_novelty_matrix(recommendations, views)\n",
    "top: np.array = get_top_recommendations(recommendations.T)\n",
    "trending: np.array = get_trending_items(recommendations, TRENDING_ITEMS)\n",
    "liked: np.array = get_liked_matrix(top, adjacent, user_item, min_rating=MIN_LIKE_RATING)\n",
    "\n",
    "# Model Evaluation.\n",
    "nrmse: float = get_nrmse(item_user, predictions)\n",
    "\n",
    "# Reporting\n",
    "print('USERS', user_item.shape[0])\n",
    "print('ITEMS', user_item.shape[1])\n",
    "print('NRMSE', nrmse)\n",
    "print('ELAPSED', time.time() - start)\n",
    "print('RECOMMENDATIONS', top.shape)\n",
    "print('BECAUSE YOU WATCHED', liked.shape)\n",
    "print('TRENDING', trending.shape)"
   ]
  }
 ],
 "metadata": {
  "kernelspec": {
   "display_name": "Python 3",
   "language": "python",
   "name": "python3"
  },
  "language_info": {
   "codemirror_mode": {
    "name": "ipython",
    "version": 3
   },
   "file_extension": ".py",
   "mimetype": "text/x-python",
   "name": "python",
   "nbconvert_exporter": "python",
   "pygments_lexer": "ipython3",
   "version": "3.7.6"
  }
 },
 "nbformat": 4,
 "nbformat_minor": 4
}
