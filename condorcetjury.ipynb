{
 "cells": [
  {
   "cell_type": "markdown",
   "metadata": {},
   "source": [
    "![user-user](./wallpaper.jpg)"
   ]
  },
  {
   "cell_type": "markdown",
   "metadata": {},
   "source": [
    "# Condorcet's Jury Theorem"
   ]
  },
  {
   "cell_type": "markdown",
   "metadata": {},
   "source": [
    "- https://mathworld.wolfram.com/CondorcetsJuryTheorem.html\n",
    "- http://www.franzdietrich.net/Papers/DietrichSpiekermann-JuryTheorems.pdf"
   ]
  },
  {
   "cell_type": "markdown",
   "metadata": {},
   "source": [
    "Condorcet's jury theorem states that given a group of voters (a \"jury\") independently choosing by majority vote between a correct outcome with probability `0<=p<=1 ` and an incorrect one with probability `1-p`:\n",
    "- If `p>1/2` (so that each voter is more likely to vote correctly that incorrectly), adding more voters increases the probability that the majority chooses correctly and the probability of a correct decision approaches `1` as the number of voters increases\n",
    "- If `p<1/2` (so that each voter is less likely to vote incorrectly than correctly), adding more voters decreases the probability that the majority chooses correctly and the probability of a correct decision is maximized for a jury of size one.\n",
    "\n"
   ]
  },
  {
   "cell_type": "code",
   "execution_count": 1,
   "metadata": {},
   "outputs": [],
   "source": [
    "import numpy as np"
   ]
  },
  {
   "cell_type": "code",
   "execution_count": 2,
   "metadata": {},
   "outputs": [],
   "source": [
    "TRIALS: int = 1000\n",
    "CORRECT: int = 1\n",
    "INCORRECT: int = 0\n",
    "JURIES: int = 10"
   ]
  },
  {
   "cell_type": "markdown",
   "metadata": {},
   "source": [
    "### A jury with a *HIGH* success rate"
   ]
  },
  {
   "cell_type": "code",
   "execution_count": 4,
   "metadata": {},
   "outputs": [
    {
     "name": "stdout",
     "output_type": "stream",
     "text": [
      "Jury 1 voted correctly 901 times out of 1000 trials.\n",
      "Jury 2 voted correctly 901 times out of 1000 trials.\n",
      "Jury 3 voted correctly 901 times out of 1000 trials.\n",
      "Jury 4 voted correctly 901 times out of 1000 trials.\n",
      "Jury 5 voted correctly 901 times out of 1000 trials.\n",
      "Jury 6 voted correctly 901 times out of 1000 trials.\n",
      "Jury 7 voted correctly 901 times out of 1000 trials.\n",
      "Jury 8 voted correctly 901 times out of 1000 trials.\n",
      "Jury 9 voted correctly 901 times out of 1000 trials.\n",
      "Jury 10 voted correctly 901 times out of 1000 trials.\n",
      "All juries voted correctly 90.05 of the time.\n",
      "There are 0 out of 1000 that had unfair results.\n"
     ]
    }
   ],
   "source": [
    "SUCCESS_RATE: float = 0.9\n",
    "trials: np.matrix = np.vstack([\n",
    "    np.random.binomial(n=CORRECT, p=SUCCESS_RATE, size=TRIALS)\n",
    "    for jury in range(JURIES)\n",
    "])\n",
    "for jury in range(trials.shape[0]):\n",
    "    success: int = np.count_nonzero(trials[0] == CORRECT)\n",
    "    print(f'Jury {jury + 1} voted correctly {success} times out of {TRIALS} trials.')\n",
    "print(f'All juries voted correctly {100 * np.count_nonzero(trials == CORRECT) / (JURIES * TRIALS)} of the time.')\n",
    "print(f'There are {np.count_nonzero(trials.sum(axis=0) < 5)} out of {TRIALS} that had unfair results.')"
   ]
  },
  {
   "cell_type": "markdown",
   "metadata": {},
   "source": [
    "### A jury with a *SLIGHT* success rate"
   ]
  },
  {
   "cell_type": "code",
   "execution_count": 5,
   "metadata": {},
   "outputs": [
    {
     "name": "stdout",
     "output_type": "stream",
     "text": [
      "Jury 1 voted correctly 518 times out of 1000 trials.\n",
      "Jury 2 voted correctly 518 times out of 1000 trials.\n",
      "Jury 3 voted correctly 518 times out of 1000 trials.\n",
      "Jury 4 voted correctly 518 times out of 1000 trials.\n",
      "Jury 5 voted correctly 518 times out of 1000 trials.\n",
      "Jury 6 voted correctly 518 times out of 1000 trials.\n",
      "Jury 7 voted correctly 518 times out of 1000 trials.\n",
      "Jury 8 voted correctly 518 times out of 1000 trials.\n",
      "Jury 9 voted correctly 518 times out of 1000 trials.\n",
      "Jury 10 voted correctly 518 times out of 1000 trials.\n",
      "All juries voted correctly 51.28 of the time.\n",
      "There are 351 out of 1000 that had unfair results.\n"
     ]
    }
   ],
   "source": [
    "SUCCESS_RATE: float = 0.51\n",
    "trials: np.matrix = np.vstack([\n",
    "    np.random.binomial(n=CORRECT, p=SUCCESS_RATE, size=TRIALS)\n",
    "    for jury in range(JURIES)\n",
    "])\n",
    "for jury in range(trials.shape[0]):\n",
    "    success: int = np.count_nonzero(trials[0] == CORRECT)\n",
    "    print(f'Jury {jury + 1} voted correctly {success} times out of {TRIALS} trials.')\n",
    "print(f'All juries voted correctly {100 * np.count_nonzero(trials == CORRECT) / (JURIES * TRIALS)} of the time.')\n",
    "print(f'There are {np.count_nonzero(trials.sum(axis=0) < 5)} out of {TRIALS} that had unfair results.')"
   ]
  },
  {
   "cell_type": "markdown",
   "metadata": {},
   "source": [
    "### A jury with a *HIGH* faiture rate"
   ]
  },
  {
   "cell_type": "code",
   "execution_count": 6,
   "metadata": {},
   "outputs": [
    {
     "name": "stdout",
     "output_type": "stream",
     "text": [
      "Jury 1 voted correctly 100 times out of 1000 trials.\n",
      "Jury 2 voted correctly 100 times out of 1000 trials.\n",
      "Jury 3 voted correctly 100 times out of 1000 trials.\n",
      "Jury 4 voted correctly 100 times out of 1000 trials.\n",
      "Jury 5 voted correctly 100 times out of 1000 trials.\n",
      "Jury 6 voted correctly 100 times out of 1000 trials.\n",
      "Jury 7 voted correctly 100 times out of 1000 trials.\n",
      "Jury 8 voted correctly 100 times out of 1000 trials.\n",
      "Jury 9 voted correctly 100 times out of 1000 trials.\n",
      "Jury 10 voted correctly 100 times out of 1000 trials.\n",
      "All juries voted correctly 10.33 of the time.\n",
      "There are 998 out of 1000 that had unfair results.\n"
     ]
    }
   ],
   "source": [
    "SUCCESS_RATE: float = 0.1\n",
    "trials: np.matrix = np.vstack([\n",
    "    np.random.binomial(n=CORRECT, p=SUCCESS_RATE, size=TRIALS)\n",
    "    for jury in range(JURIES)\n",
    "])\n",
    "for jury in range(trials.shape[0]):\n",
    "    success: int = np.count_nonzero(trials[0] == CORRECT)\n",
    "    print(f'Jury {jury + 1} voted correctly {success} times out of {TRIALS} trials.')\n",
    "print(f'All juries voted correctly {100 * np.count_nonzero(trials == CORRECT) / (JURIES * TRIALS)} of the time.')\n",
    "print(f'There are {np.count_nonzero(trials.sum(axis=0) < 5)} out of {TRIALS} that had unfair results.')"
   ]
  },
  {
   "cell_type": "markdown",
   "metadata": {},
   "source": [
    "### A jury with a *SLIGHT* faiture rate"
   ]
  },
  {
   "cell_type": "code",
   "execution_count": 7,
   "metadata": {},
   "outputs": [
    {
     "name": "stdout",
     "output_type": "stream",
     "text": [
      "Jury 1 voted correctly 441 times out of 1000 trials.\n",
      "Jury 2 voted correctly 441 times out of 1000 trials.\n",
      "Jury 3 voted correctly 441 times out of 1000 trials.\n",
      "Jury 4 voted correctly 441 times out of 1000 trials.\n",
      "Jury 5 voted correctly 441 times out of 1000 trials.\n",
      "Jury 6 voted correctly 441 times out of 1000 trials.\n",
      "Jury 7 voted correctly 441 times out of 1000 trials.\n",
      "Jury 8 voted correctly 441 times out of 1000 trials.\n",
      "Jury 9 voted correctly 441 times out of 1000 trials.\n",
      "Jury 10 voted correctly 441 times out of 1000 trials.\n",
      "All juries voted correctly 47.62 of the time.\n",
      "There are 433 out of 1000 that had unfair results.\n"
     ]
    }
   ],
   "source": [
    "SUCCESS_RATE: float = 0.49\n",
    "trials: np.matrix = np.vstack([\n",
    "    np.random.binomial(n=CORRECT, p=SUCCESS_RATE, size=TRIALS)\n",
    "    for jury in range(JURIES)\n",
    "])\n",
    "for jury in range(trials.shape[0]):\n",
    "    success: int = np.count_nonzero(trials[0] == CORRECT)\n",
    "    print(f'Jury {jury + 1} voted correctly {success} times out of {TRIALS} trials.')\n",
    "print(f'All juries voted correctly {100 * np.count_nonzero(trials == CORRECT) / (JURIES * TRIALS)} of the time.')\n",
    "print(f'There are {np.count_nonzero(trials.sum(axis=0) < 5)} out of {TRIALS} that had unfair results.')"
   ]
  },
  {
   "cell_type": "code",
   "execution_count": null,
   "metadata": {},
   "outputs": [],
   "source": []
  }
 ],
 "metadata": {
  "kernelspec": {
   "display_name": "Python 3",
   "language": "python",
   "name": "python3"
  },
  "language_info": {
   "codemirror_mode": {
    "name": "ipython",
    "version": 3
   },
   "file_extension": ".py",
   "mimetype": "text/x-python",
   "name": "python",
   "nbconvert_exporter": "python",
   "pygments_lexer": "ipython3",
   "version": "3.8.3"
  }
 },
 "nbformat": 4,
 "nbformat_minor": 4
}
