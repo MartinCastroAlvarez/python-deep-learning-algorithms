{
 "cells": [
  {
   "cell_type": "markdown",
   "id": "f92c2d36",
   "metadata": {},
   "source": [
    "# Portfolio Similarity"
   ]
  },
  {
   "cell_type": "markdown",
   "id": "41de3fc1",
   "metadata": {},
   "source": [
    "![img](./media/similarity-01.png)"
   ]
  },
  {
   "cell_type": "markdown",
   "id": "f672f034",
   "metadata": {},
   "source": [
    " ![img](./media/similarity-02.png)"
   ]
  },
  {
   "cell_type": "markdown",
   "id": "02d820b2",
   "metadata": {},
   "source": [
    " ![img](./media/similarity-03.png)"
   ]
  },
  {
   "cell_type": "markdown",
   "id": "cc0ffc6b",
   "metadata": {},
   "source": [
    "![img](./media/similarity-04.png) "
   ]
  },
  {
   "cell_type": "markdown",
   "id": "82b15cea",
   "metadata": {},
   "source": [
    "![img](./media/similarity-05.png) "
   ]
  },
  {
   "cell_type": "markdown",
   "id": "0c20f2df",
   "metadata": {},
   "source": [
    " ![img](./media/similarity-06.png)"
   ]
  },
  {
   "cell_type": "markdown",
   "id": "1b54b116",
   "metadata": {},
   "source": [
    " ![img](./media/similarity-07.png)"
   ]
  },
  {
   "cell_type": "markdown",
   "id": "b98b15f2",
   "metadata": {},
   "source": [
    " ![img](./media/similarity-08.png)"
   ]
  },
  {
   "cell_type": "markdown",
   "id": "7f82452a",
   "metadata": {},
   "source": [
    "![img](./media/similarity-09.png)"
   ]
  },
  {
   "cell_type": "markdown",
   "id": "a693c705",
   "metadata": {},
   "source": [
    " ![img](./media/similarity-10.png)"
   ]
  },
  {
   "cell_type": "markdown",
   "id": "22ebea5a",
   "metadata": {},
   "source": [
    "  ![img](./media/similarity-11.png)"
   ]
  },
  {
   "cell_type": "markdown",
   "id": "47800076",
   "metadata": {},
   "source": [
    "  ![img](./media/similarity-12.png)"
   ]
  },
  {
   "cell_type": "markdown",
   "id": "dcad5ec7",
   "metadata": {},
   "source": [
    "  ![img](./media/similarity-13.png)"
   ]
  },
  {
   "cell_type": "markdown",
   "id": "40116dd7",
   "metadata": {},
   "source": [
    "  ![img](./media/similarity-14.png)"
   ]
  },
  {
   "cell_type": "markdown",
   "id": "19873593",
   "metadata": {},
   "source": [
    " ![img](./media/similarity-15.png) "
   ]
  },
  {
   "cell_type": "code",
   "execution_count": 3,
   "id": "9f505d00",
   "metadata": {},
   "outputs": [],
   "source": [
    "import networkx as nx"
   ]
  },
  {
   "cell_type": "code",
   "execution_count": 7,
   "id": "678582cc",
   "metadata": {},
   "outputs": [
    {
     "name": "stdout",
     "output_type": "stream",
     "text": [
      "Nodes: []\n",
      "Edges: []\n"
     ]
    }
   ],
   "source": [
    "total_investors: int = 10\n",
    "\n",
    "G: nx.Graph = nx.Graph()\n",
    "\n",
    "print('Nodes:', G.nodes())\n",
    "print('Edges:', G.edges())\n",
    "\n",
    "for _ in range(total_investors):\n",
    "    pass\n"
   ]
  },
  {
   "cell_type": "code",
   "execution_count": null,
   "id": "8aa97a23",
   "metadata": {},
   "outputs": [],
   "source": []
  },
  {
   "cell_type": "code",
   "execution_count": null,
   "id": "ee0bf667",
   "metadata": {},
   "outputs": [],
   "source": []
  },
  {
   "cell_type": "code",
   "execution_count": null,
   "id": "32a5255d",
   "metadata": {},
   "outputs": [],
   "source": []
  },
  {
   "cell_type": "code",
   "execution_count": null,
   "id": "7e1dd5b1",
   "metadata": {},
   "outputs": [],
   "source": []
  },
  {
   "cell_type": "code",
   "execution_count": null,
   "id": "bd20d57a",
   "metadata": {},
   "outputs": [],
   "source": []
  },
  {
   "cell_type": "code",
   "execution_count": null,
   "id": "f9f766b5",
   "metadata": {},
   "outputs": [],
   "source": []
  },
  {
   "cell_type": "code",
   "execution_count": null,
   "id": "e461ec87",
   "metadata": {},
   "outputs": [],
   "source": []
  },
  {
   "cell_type": "code",
   "execution_count": null,
   "id": "b6308f76",
   "metadata": {},
   "outputs": [],
   "source": []
  }
 ],
 "metadata": {
  "kernelspec": {
   "display_name": "Python 3 (ipykernel)",
   "language": "python",
   "name": "python3"
  },
  "language_info": {
   "codemirror_mode": {
    "name": "ipython",
    "version": 3
   },
   "file_extension": ".py",
   "mimetype": "text/x-python",
   "name": "python",
   "nbconvert_exporter": "python",
   "pygments_lexer": "ipython3",
   "version": "3.9.6"
  }
 },
 "nbformat": 4,
 "nbformat_minor": 5
}
